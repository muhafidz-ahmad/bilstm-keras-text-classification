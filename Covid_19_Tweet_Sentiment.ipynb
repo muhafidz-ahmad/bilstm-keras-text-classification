{
  "nbformat": 4,
  "nbformat_minor": 0,
  "metadata": {
    "colab": {
      "provenance": [],
      "collapsed_sections": [],
      "authorship_tag": "ABX9TyNYsugIJqfdDOB4OKVWHe6U",
      "include_colab_link": true
    },
    "kernelspec": {
      "name": "python3",
      "display_name": "Python 3"
    },
    "language_info": {
      "name": "python"
    },
    "accelerator": "GPU"
  },
  "cells": [
    {
      "cell_type": "markdown",
      "metadata": {
        "id": "view-in-github",
        "colab_type": "text"
      },
      "source": [
        "<a href=\"https://colab.research.google.com/github/muhafidz-ahmad/bilstm-keras-text-classification/blob/main/Covid_19_Tweet_Sentiment.ipynb\" target=\"_parent\"><img src=\"https://colab.research.google.com/assets/colab-badge.svg\" alt=\"Open In Colab\"/></a>"
      ]
    },
    {
      "cell_type": "markdown",
      "source": [
        "# Package Preparation"
      ],
      "metadata": {
        "id": "CqQT0r9ilWmO"
      }
    },
    {
      "cell_type": "code",
      "source": [
        "import string\n",
        "import re\n",
        "\n",
        "import nltk\n",
        "from nltk.corpus import stopwords\n",
        "\n",
        "import pandas as pd\n",
        "import numpy as np\n",
        "import matplotlib.pyplot as plt\n",
        "\n",
        "from sklearn.model_selection import train_test_split\n",
        "\n",
        "from tensorflow import keras\n",
        "from tensorflow.keras import models\n",
        "from tensorflow.keras import layers\n",
        "from tensorflow.keras import optimizers\n",
        "from tensorflow.keras import losses\n",
        "from tensorflow.keras import initializers\n",
        "from tensorflow.keras.preprocessing.text import Tokenizer\n",
        "from tensorflow.keras.preprocessing.sequence import pad_sequences"
      ],
      "metadata": {
        "id": "3QT80KOtk8jG"
      },
      "execution_count": null,
      "outputs": []
    },
    {
      "cell_type": "markdown",
      "source": [
        "# Load Data"
      ],
      "metadata": {
        "id": "_9Qv2Aa_LKEd"
      }
    },
    {
      "cell_type": "markdown",
      "source": [
        "Dataset obtained from https://www.kaggle.com/datasets/datatattle/covid-19-nlp-text-classification"
      ],
      "metadata": {
        "id": "EN4l5HDWaQ9m"
      }
    },
    {
      "cell_type": "code",
      "execution_count": null,
      "metadata": {
        "colab": {
          "base_uri": "https://localhost:8080/",
          "height": 206
        },
        "id": "iSjM9t4lE5iN",
        "outputId": "475085a6-0a6b-45c6-99d7-8e9c0b3e85ea"
      },
      "outputs": [
        {
          "output_type": "execute_result",
          "data": {
            "text/plain": [
              "                                       OriginalTweet           Sentiment\n",
              "0  @MeNyrbie @Phil_Gahan @Chrisitv https://t.co/i...             Neutral\n",
              "1  advice Talk to your neighbours family to excha...            Positive\n",
              "2  Coronavirus Australia: Woolworths to give elde...            Positive\n",
              "3  My food stock is not the only one which is emp...            Positive\n",
              "4  Me, ready to go at supermarket during the #COV...  Extremely Negative"
            ],
            "text/html": [
              "\n",
              "  <div id=\"df-07f44012-4675-412a-8fdb-d6f7564650e4\">\n",
              "    <div class=\"colab-df-container\">\n",
              "      <div>\n",
              "<style scoped>\n",
              "    .dataframe tbody tr th:only-of-type {\n",
              "        vertical-align: middle;\n",
              "    }\n",
              "\n",
              "    .dataframe tbody tr th {\n",
              "        vertical-align: top;\n",
              "    }\n",
              "\n",
              "    .dataframe thead th {\n",
              "        text-align: right;\n",
              "    }\n",
              "</style>\n",
              "<table border=\"1\" class=\"dataframe\">\n",
              "  <thead>\n",
              "    <tr style=\"text-align: right;\">\n",
              "      <th></th>\n",
              "      <th>OriginalTweet</th>\n",
              "      <th>Sentiment</th>\n",
              "    </tr>\n",
              "  </thead>\n",
              "  <tbody>\n",
              "    <tr>\n",
              "      <th>0</th>\n",
              "      <td>@MeNyrbie @Phil_Gahan @Chrisitv https://t.co/i...</td>\n",
              "      <td>Neutral</td>\n",
              "    </tr>\n",
              "    <tr>\n",
              "      <th>1</th>\n",
              "      <td>advice Talk to your neighbours family to excha...</td>\n",
              "      <td>Positive</td>\n",
              "    </tr>\n",
              "    <tr>\n",
              "      <th>2</th>\n",
              "      <td>Coronavirus Australia: Woolworths to give elde...</td>\n",
              "      <td>Positive</td>\n",
              "    </tr>\n",
              "    <tr>\n",
              "      <th>3</th>\n",
              "      <td>My food stock is not the only one which is emp...</td>\n",
              "      <td>Positive</td>\n",
              "    </tr>\n",
              "    <tr>\n",
              "      <th>4</th>\n",
              "      <td>Me, ready to go at supermarket during the #COV...</td>\n",
              "      <td>Extremely Negative</td>\n",
              "    </tr>\n",
              "  </tbody>\n",
              "</table>\n",
              "</div>\n",
              "      <button class=\"colab-df-convert\" onclick=\"convertToInteractive('df-07f44012-4675-412a-8fdb-d6f7564650e4')\"\n",
              "              title=\"Convert this dataframe to an interactive table.\"\n",
              "              style=\"display:none;\">\n",
              "        \n",
              "  <svg xmlns=\"http://www.w3.org/2000/svg\" height=\"24px\"viewBox=\"0 0 24 24\"\n",
              "       width=\"24px\">\n",
              "    <path d=\"M0 0h24v24H0V0z\" fill=\"none\"/>\n",
              "    <path d=\"M18.56 5.44l.94 2.06.94-2.06 2.06-.94-2.06-.94-.94-2.06-.94 2.06-2.06.94zm-11 1L8.5 8.5l.94-2.06 2.06-.94-2.06-.94L8.5 2.5l-.94 2.06-2.06.94zm10 10l.94 2.06.94-2.06 2.06-.94-2.06-.94-.94-2.06-.94 2.06-2.06.94z\"/><path d=\"M17.41 7.96l-1.37-1.37c-.4-.4-.92-.59-1.43-.59-.52 0-1.04.2-1.43.59L10.3 9.45l-7.72 7.72c-.78.78-.78 2.05 0 2.83L4 21.41c.39.39.9.59 1.41.59.51 0 1.02-.2 1.41-.59l7.78-7.78 2.81-2.81c.8-.78.8-2.07 0-2.86zM5.41 20L4 18.59l7.72-7.72 1.47 1.35L5.41 20z\"/>\n",
              "  </svg>\n",
              "      </button>\n",
              "      \n",
              "  <style>\n",
              "    .colab-df-container {\n",
              "      display:flex;\n",
              "      flex-wrap:wrap;\n",
              "      gap: 12px;\n",
              "    }\n",
              "\n",
              "    .colab-df-convert {\n",
              "      background-color: #E8F0FE;\n",
              "      border: none;\n",
              "      border-radius: 50%;\n",
              "      cursor: pointer;\n",
              "      display: none;\n",
              "      fill: #1967D2;\n",
              "      height: 32px;\n",
              "      padding: 0 0 0 0;\n",
              "      width: 32px;\n",
              "    }\n",
              "\n",
              "    .colab-df-convert:hover {\n",
              "      background-color: #E2EBFA;\n",
              "      box-shadow: 0px 1px 2px rgba(60, 64, 67, 0.3), 0px 1px 3px 1px rgba(60, 64, 67, 0.15);\n",
              "      fill: #174EA6;\n",
              "    }\n",
              "\n",
              "    [theme=dark] .colab-df-convert {\n",
              "      background-color: #3B4455;\n",
              "      fill: #D2E3FC;\n",
              "    }\n",
              "\n",
              "    [theme=dark] .colab-df-convert:hover {\n",
              "      background-color: #434B5C;\n",
              "      box-shadow: 0px 1px 3px 1px rgba(0, 0, 0, 0.15);\n",
              "      filter: drop-shadow(0px 1px 2px rgba(0, 0, 0, 0.3));\n",
              "      fill: #FFFFFF;\n",
              "    }\n",
              "  </style>\n",
              "\n",
              "      <script>\n",
              "        const buttonEl =\n",
              "          document.querySelector('#df-07f44012-4675-412a-8fdb-d6f7564650e4 button.colab-df-convert');\n",
              "        buttonEl.style.display =\n",
              "          google.colab.kernel.accessAllowed ? 'block' : 'none';\n",
              "\n",
              "        async function convertToInteractive(key) {\n",
              "          const element = document.querySelector('#df-07f44012-4675-412a-8fdb-d6f7564650e4');\n",
              "          const dataTable =\n",
              "            await google.colab.kernel.invokeFunction('convertToInteractive',\n",
              "                                                     [key], {});\n",
              "          if (!dataTable) return;\n",
              "\n",
              "          const docLinkHtml = 'Like what you see? Visit the ' +\n",
              "            '<a target=\"_blank\" href=https://colab.research.google.com/notebooks/data_table.ipynb>data table notebook</a>'\n",
              "            + ' to learn more about interactive tables.';\n",
              "          element.innerHTML = '';\n",
              "          dataTable['output_type'] = 'display_data';\n",
              "          await google.colab.output.renderOutput(dataTable, element);\n",
              "          const docLink = document.createElement('div');\n",
              "          docLink.innerHTML = docLinkHtml;\n",
              "          element.appendChild(docLink);\n",
              "        }\n",
              "      </script>\n",
              "    </div>\n",
              "  </div>\n",
              "  "
            ]
          },
          "metadata": {},
          "execution_count": 243
        }
      ],
      "source": [
        "df1 = pd.read_csv('/content/Corona_NLP_train.csv', encoding='latin1')\n",
        "df2 = pd.read_csv('/content/Corona_NLP_test.csv')\n",
        "df = pd.concat([df1, df2])\n",
        "df = df.drop(['UserName', 'ScreenName', 'Location', 'TweetAt'], axis=1)\n",
        "df.head()"
      ]
    },
    {
      "cell_type": "code",
      "source": [
        "for i in range(0,len(df)):\n",
        "    if(df['Sentiment'].iloc[i]=='Extremely Negative'):\n",
        "        df['Sentiment'].iloc[i]='Negative'\n",
        "    elif(df['Sentiment'].iloc[i]=='Extremely Positive'):\n",
        "        df['Sentiment'].iloc[i]='Positive'\n",
        "\n",
        "df['Sentiment'].unique()"
      ],
      "metadata": {
        "colab": {
          "base_uri": "https://localhost:8080/"
        },
        "id": "Ra7_YomGyzN5",
        "outputId": "37fb2e6c-e723-472e-9773-3143f9571285"
      },
      "execution_count": null,
      "outputs": [
        {
          "output_type": "execute_result",
          "data": {
            "text/plain": [
              "array(['Neutral', 'Positive', 'Negative'], dtype=object)"
            ]
          },
          "metadata": {},
          "execution_count": 244
        }
      ]
    },
    {
      "cell_type": "code",
      "source": [
        "df.info()"
      ],
      "metadata": {
        "colab": {
          "base_uri": "https://localhost:8080/"
        },
        "id": "KPpWfM48JC_s",
        "outputId": "d8badadd-627a-4cd8-ee71-7add757c4b09"
      },
      "execution_count": null,
      "outputs": [
        {
          "output_type": "stream",
          "name": "stdout",
          "text": [
            "<class 'pandas.core.frame.DataFrame'>\n",
            "Int64Index: 44955 entries, 0 to 3797\n",
            "Data columns (total 2 columns):\n",
            " #   Column         Non-Null Count  Dtype \n",
            "---  ------         --------------  ----- \n",
            " 0   OriginalTweet  44955 non-null  object\n",
            " 1   Sentiment      44955 non-null  object\n",
            "dtypes: object(2)\n",
            "memory usage: 1.0+ MB\n"
          ]
        }
      ]
    },
    {
      "cell_type": "code",
      "source": [
        "df_label = pd.get_dummies(df['Sentiment'])\n",
        "df_clear = pd.concat([df['OriginalTweet'], df_label],\n",
        "                     axis=1)\n",
        "df_clear.head()"
      ],
      "metadata": {
        "colab": {
          "base_uri": "https://localhost:8080/",
          "height": 206
        },
        "id": "CGIRW4-tI6Yz",
        "outputId": "071a548d-2e5b-44ff-c2ad-f484eff9c098"
      },
      "execution_count": null,
      "outputs": [
        {
          "output_type": "execute_result",
          "data": {
            "text/plain": [
              "                                       OriginalTweet  Negative  Neutral  \\\n",
              "0  @MeNyrbie @Phil_Gahan @Chrisitv https://t.co/i...         0        1   \n",
              "1  advice Talk to your neighbours family to excha...         0        0   \n",
              "2  Coronavirus Australia: Woolworths to give elde...         0        0   \n",
              "3  My food stock is not the only one which is emp...         0        0   \n",
              "4  Me, ready to go at supermarket during the #COV...         1        0   \n",
              "\n",
              "   Positive  \n",
              "0         0  \n",
              "1         1  \n",
              "2         1  \n",
              "3         1  \n",
              "4         0  "
            ],
            "text/html": [
              "\n",
              "  <div id=\"df-619dc670-13bd-4426-8ee0-96a31df11b09\">\n",
              "    <div class=\"colab-df-container\">\n",
              "      <div>\n",
              "<style scoped>\n",
              "    .dataframe tbody tr th:only-of-type {\n",
              "        vertical-align: middle;\n",
              "    }\n",
              "\n",
              "    .dataframe tbody tr th {\n",
              "        vertical-align: top;\n",
              "    }\n",
              "\n",
              "    .dataframe thead th {\n",
              "        text-align: right;\n",
              "    }\n",
              "</style>\n",
              "<table border=\"1\" class=\"dataframe\">\n",
              "  <thead>\n",
              "    <tr style=\"text-align: right;\">\n",
              "      <th></th>\n",
              "      <th>OriginalTweet</th>\n",
              "      <th>Negative</th>\n",
              "      <th>Neutral</th>\n",
              "      <th>Positive</th>\n",
              "    </tr>\n",
              "  </thead>\n",
              "  <tbody>\n",
              "    <tr>\n",
              "      <th>0</th>\n",
              "      <td>@MeNyrbie @Phil_Gahan @Chrisitv https://t.co/i...</td>\n",
              "      <td>0</td>\n",
              "      <td>1</td>\n",
              "      <td>0</td>\n",
              "    </tr>\n",
              "    <tr>\n",
              "      <th>1</th>\n",
              "      <td>advice Talk to your neighbours family to excha...</td>\n",
              "      <td>0</td>\n",
              "      <td>0</td>\n",
              "      <td>1</td>\n",
              "    </tr>\n",
              "    <tr>\n",
              "      <th>2</th>\n",
              "      <td>Coronavirus Australia: Woolworths to give elde...</td>\n",
              "      <td>0</td>\n",
              "      <td>0</td>\n",
              "      <td>1</td>\n",
              "    </tr>\n",
              "    <tr>\n",
              "      <th>3</th>\n",
              "      <td>My food stock is not the only one which is emp...</td>\n",
              "      <td>0</td>\n",
              "      <td>0</td>\n",
              "      <td>1</td>\n",
              "    </tr>\n",
              "    <tr>\n",
              "      <th>4</th>\n",
              "      <td>Me, ready to go at supermarket during the #COV...</td>\n",
              "      <td>1</td>\n",
              "      <td>0</td>\n",
              "      <td>0</td>\n",
              "    </tr>\n",
              "  </tbody>\n",
              "</table>\n",
              "</div>\n",
              "      <button class=\"colab-df-convert\" onclick=\"convertToInteractive('df-619dc670-13bd-4426-8ee0-96a31df11b09')\"\n",
              "              title=\"Convert this dataframe to an interactive table.\"\n",
              "              style=\"display:none;\">\n",
              "        \n",
              "  <svg xmlns=\"http://www.w3.org/2000/svg\" height=\"24px\"viewBox=\"0 0 24 24\"\n",
              "       width=\"24px\">\n",
              "    <path d=\"M0 0h24v24H0V0z\" fill=\"none\"/>\n",
              "    <path d=\"M18.56 5.44l.94 2.06.94-2.06 2.06-.94-2.06-.94-.94-2.06-.94 2.06-2.06.94zm-11 1L8.5 8.5l.94-2.06 2.06-.94-2.06-.94L8.5 2.5l-.94 2.06-2.06.94zm10 10l.94 2.06.94-2.06 2.06-.94-2.06-.94-.94-2.06-.94 2.06-2.06.94z\"/><path d=\"M17.41 7.96l-1.37-1.37c-.4-.4-.92-.59-1.43-.59-.52 0-1.04.2-1.43.59L10.3 9.45l-7.72 7.72c-.78.78-.78 2.05 0 2.83L4 21.41c.39.39.9.59 1.41.59.51 0 1.02-.2 1.41-.59l7.78-7.78 2.81-2.81c.8-.78.8-2.07 0-2.86zM5.41 20L4 18.59l7.72-7.72 1.47 1.35L5.41 20z\"/>\n",
              "  </svg>\n",
              "      </button>\n",
              "      \n",
              "  <style>\n",
              "    .colab-df-container {\n",
              "      display:flex;\n",
              "      flex-wrap:wrap;\n",
              "      gap: 12px;\n",
              "    }\n",
              "\n",
              "    .colab-df-convert {\n",
              "      background-color: #E8F0FE;\n",
              "      border: none;\n",
              "      border-radius: 50%;\n",
              "      cursor: pointer;\n",
              "      display: none;\n",
              "      fill: #1967D2;\n",
              "      height: 32px;\n",
              "      padding: 0 0 0 0;\n",
              "      width: 32px;\n",
              "    }\n",
              "\n",
              "    .colab-df-convert:hover {\n",
              "      background-color: #E2EBFA;\n",
              "      box-shadow: 0px 1px 2px rgba(60, 64, 67, 0.3), 0px 1px 3px 1px rgba(60, 64, 67, 0.15);\n",
              "      fill: #174EA6;\n",
              "    }\n",
              "\n",
              "    [theme=dark] .colab-df-convert {\n",
              "      background-color: #3B4455;\n",
              "      fill: #D2E3FC;\n",
              "    }\n",
              "\n",
              "    [theme=dark] .colab-df-convert:hover {\n",
              "      background-color: #434B5C;\n",
              "      box-shadow: 0px 1px 3px 1px rgba(0, 0, 0, 0.15);\n",
              "      filter: drop-shadow(0px 1px 2px rgba(0, 0, 0, 0.3));\n",
              "      fill: #FFFFFF;\n",
              "    }\n",
              "  </style>\n",
              "\n",
              "      <script>\n",
              "        const buttonEl =\n",
              "          document.querySelector('#df-619dc670-13bd-4426-8ee0-96a31df11b09 button.colab-df-convert');\n",
              "        buttonEl.style.display =\n",
              "          google.colab.kernel.accessAllowed ? 'block' : 'none';\n",
              "\n",
              "        async function convertToInteractive(key) {\n",
              "          const element = document.querySelector('#df-619dc670-13bd-4426-8ee0-96a31df11b09');\n",
              "          const dataTable =\n",
              "            await google.colab.kernel.invokeFunction('convertToInteractive',\n",
              "                                                     [key], {});\n",
              "          if (!dataTable) return;\n",
              "\n",
              "          const docLinkHtml = 'Like what you see? Visit the ' +\n",
              "            '<a target=\"_blank\" href=https://colab.research.google.com/notebooks/data_table.ipynb>data table notebook</a>'\n",
              "            + ' to learn more about interactive tables.';\n",
              "          element.innerHTML = '';\n",
              "          dataTable['output_type'] = 'display_data';\n",
              "          await google.colab.output.renderOutput(dataTable, element);\n",
              "          const docLink = document.createElement('div');\n",
              "          docLink.innerHTML = docLinkHtml;\n",
              "          element.appendChild(docLink);\n",
              "        }\n",
              "      </script>\n",
              "    </div>\n",
              "  </div>\n",
              "  "
            ]
          },
          "metadata": {},
          "execution_count": 246
        }
      ]
    },
    {
      "cell_type": "code",
      "source": [
        "sentiment_list = df['Sentiment'].unique()\n",
        "\n",
        "tweet = df_clear['OriginalTweet'].values\n",
        "sentiment = df_clear[sentiment_list].values\n",
        "\n",
        "tweet[:2]"
      ],
      "metadata": {
        "colab": {
          "base_uri": "https://localhost:8080/"
        },
        "id": "BQ5dao9OJm0k",
        "outputId": "d96cd561-c7d4-488f-c7e9-d371f8d8f7d4"
      },
      "execution_count": null,
      "outputs": [
        {
          "output_type": "execute_result",
          "data": {
            "text/plain": [
              "array(['@MeNyrbie @Phil_Gahan @Chrisitv https://t.co/iFz9FAn2Pa and https://t.co/xX6ghGFzCC and https://t.co/I2NlzdxNo8',\n",
              "       'advice Talk to your neighbours family to exchange phone numbers create contact list with phone numbers of neighbours schools employer chemist GP set up online shopping accounts if poss adequate supplies of regular meds but not over order'],\n",
              "      dtype=object)"
            ]
          },
          "metadata": {},
          "execution_count": 247
        }
      ]
    },
    {
      "cell_type": "markdown",
      "source": [
        "# Text Preprocessing"
      ],
      "metadata": {
        "id": "AwYVNBBjLMCM"
      }
    },
    {
      "cell_type": "code",
      "source": [
        "nltk.download('stopwords')\n",
        "\n",
        "stop_words = stopwords.words('english')\n",
        "\n",
        "clear_tweet = []\n",
        "\n",
        "for i, text in enumerate(tweet):\n",
        "    lower_text = text.lower()\n",
        "    \n",
        "    #remove punctuation\n",
        "    del_punc = \"\".join([char for char in lower_text if char not in string.punctuation])\n",
        "    \n",
        "    # remove url\n",
        "    del_url = re.sub(r\"http\\S+\", \"\", del_punc)\n",
        "\n",
        "    # remove stopword\n",
        "    del_stopword = \" \".join([word for word in del_url.split() if word not in stop_words])\n",
        "\n",
        "    # remove whitespace\n",
        "    del_whitespace = \" \".join(del_stopword.split())\n",
        "\n",
        "    clear_tweet.append(del_whitespace)\n",
        "\n",
        "clear_tweet = np.array(clear_tweet)\n",
        "clear_tweet[:2]"
      ],
      "metadata": {
        "colab": {
          "base_uri": "https://localhost:8080/"
        },
        "id": "qHa5tSScLDP-",
        "outputId": "a5cb0b48-dacd-49da-e21e-665d97a754df"
      },
      "execution_count": null,
      "outputs": [
        {
          "output_type": "stream",
          "name": "stderr",
          "text": [
            "[nltk_data] Downloading package stopwords to /root/nltk_data...\n",
            "[nltk_data]   Package stopwords is already up-to-date!\n"
          ]
        },
        {
          "output_type": "execute_result",
          "data": {
            "text/plain": [
              "array(['menyrbie philgahan chrisitv',\n",
              "       'advice talk neighbours family exchange phone numbers create contact list phone numbers neighbours schools employer chemist gp set online shopping accounts poss adequate supplies regular meds order'],\n",
              "      dtype='<U286')"
            ]
          },
          "metadata": {},
          "execution_count": 248
        }
      ]
    },
    {
      "cell_type": "markdown",
      "source": [
        "# Split Data Train and Data Test"
      ],
      "metadata": {
        "id": "oHPL8I_oV0gH"
      }
    },
    {
      "cell_type": "code",
      "source": [
        "tweet_train, tweet_test, y_train, y_test = train_test_split(clear_tweet,\n",
        "                                                            sentiment,\n",
        "                                                            test_size=0.2,\n",
        "                                                            random_state=1)"
      ],
      "metadata": {
        "id": "5vVbBnlDV5zG"
      },
      "execution_count": null,
      "outputs": []
    },
    {
      "cell_type": "markdown",
      "source": [
        "# Tokenizer"
      ],
      "metadata": {
        "id": "v2i75IbqUzLc"
      }
    },
    {
      "cell_type": "code",
      "source": [
        "NUM_WORDS = 15000\n",
        "\n",
        "tokenizer = Tokenizer(num_words=NUM_WORDS, oov_token='<oov>')\n",
        "\n",
        "tokenizer.fit_on_texts(tweet_train)\n",
        "\n",
        "seq_train = tokenizer.texts_to_sequences(tweet_train)\n",
        "seq_test = tokenizer.texts_to_sequences(tweet_test)\n",
        "\n",
        "x_train = pad_sequences(seq_train, padding='post', truncating='post')\n",
        "x_test = pad_sequences(seq_test, padding='post', truncating='post')\n",
        "\n",
        "print(len(tokenizer.word_index))\n",
        "print(x_train.max())\n",
        "print(len(x_test[0]))"
      ],
      "metadata": {
        "colab": {
          "base_uri": "https://localhost:8080/"
        },
        "id": "HxtgdUSiTgb9",
        "outputId": "e2b54467-ea52-4dfe-c7fe-a082e3e1cb2f"
      },
      "execution_count": null,
      "outputs": [
        {
          "output_type": "stream",
          "name": "stdout",
          "text": [
            "57804\n",
            "14999\n",
            "46\n"
          ]
        }
      ]
    },
    {
      "cell_type": "code",
      "source": [
        "sentiment_counts_train = {}\n",
        "sentiment_counts_test = {}\n",
        "\n",
        "for i in range(3):\n",
        "    value_train = pd.DataFrame(y_train)[i].value_counts().iloc[1]\n",
        "    key_train = sentiment_list[i]\n",
        "    sentiment_counts_train[key_train] = value_train\n",
        "\n",
        "    value_test = pd.DataFrame(y_test)[i].value_counts().iloc[1]\n",
        "    key_test = sentiment_list[i]\n",
        "    sentiment_counts_test[key_test] = value_test\n",
        "\n",
        "fig, ax = plt.subplots(1, 2, figsize = (10,4))\n",
        "\n",
        "ax[0].pie(sentiment_counts_train.values(),\n",
        "          labels=sentiment_counts_train.keys())\n",
        "ax[0].set_title('Data train')\n",
        "\n",
        "ax[1].pie(sentiment_counts_test.values(),\n",
        "          labels=sentiment_counts_test.keys())\n",
        "ax[1].set_title('Data test')\n",
        "\n",
        "fig.tight_layout()\n",
        "plt.show\n",
        "\n",
        "print(sentiment_counts_train)\n",
        "print(sentiment_counts_test)"
      ],
      "metadata": {
        "colab": {
          "base_uri": "https://localhost:8080/",
          "height": 332
        },
        "id": "Q1egTSZTeueN",
        "outputId": "48fa390b-0a66-451b-8c33-fcbcc5e0ba81"
      },
      "execution_count": null,
      "outputs": [
        {
          "output_type": "stream",
          "name": "stdout",
          "text": [
            "{'Neutral': 6670, 'Positive': 15671, 'Negative': 13623}\n",
            "{'Neutral': 1662, 'Positive': 3921, 'Negative': 3408}\n"
          ]
        },
        {
          "output_type": "display_data",
          "data": {
            "text/plain": [
              "<Figure size 720x288 with 2 Axes>"
            ],
            "image/png": "[encoded data removed]"
          },
          "metadata": {}
        }
      ]
    },
    {
      "cell_type": "markdown",
      "source": [
        "# Build The Model"
      ],
      "metadata": {
        "id": "XMO1Ydg1W_7q"
      }
    },
    {
      "cell_type": "code",
      "source": [
        "highest_acc_train = [0,0]\n",
        "highest_acc_test = [0,0]\n",
        "\n",
        "class myCallback(keras.callbacks.Callback):\n",
        "    def on_epoch_end(self, epoch, logs={}):\n",
        "        global highest_acc_train, highest_acc_test\n",
        "\n",
        "        target_acc = 0.85\n",
        "\n",
        "        if logs.get('acc') > target_acc and logs.get('val_acc') > target_acc:\n",
        "            print(\"\\nThe accuracy has reached >\", target_acc)\n",
        "            self.model.stop_training = True\n",
        "        if logs.get('acc') > highest_acc_train[0]:\n",
        "            highest_acc_train[0] = logs.get('acc')\n",
        "            highest_acc_train[1] = epoch+1\n",
        "        if logs.get('val_acc') > highest_acc_test[0]:\n",
        "            highest_acc_test[0] = logs.get('val_acc')\n",
        "            highest_acc_test[1] = epoch+1\n",
        "            \n",
        "early_stopping = keras.callbacks.EarlyStopping(patience=3, \n",
        "                                               monitor='val_acc',\n",
        "                                               min_delta=0.01,\n",
        "                                               verbose=1)\n",
        "\n",
        "callbacks = myCallback()\n",
        "\n",
        "\n",
        "model = models.Sequential([\n",
        "    layers.Embedding(input_dim=NUM_WORDS, output_dim=32),\n",
        "    layers.LSTM(16, dropout=0.6),\n",
        "    layers.Dense(16, activation='relu'),\n",
        "    layers.Dropout(0.5),\n",
        "    layers.Dense(len(sentiment_list), activation='softmax')\n",
        "])\n",
        "\n",
        "model.summary()\n",
        "\n",
        "model.compile(loss=losses.CategoricalCrossentropy(),\n",
        "              optimizer=optimizers.Adam(learning_rate=0.003),\n",
        "              metrics=['acc'])\n",
        "\n",
        "hist = model.fit(x_train, y_train,\n",
        "                 epochs=10,\n",
        "                 batch_size=256,\n",
        "                 validation_data=(x_test, y_test),\n",
        "                 verbose=2,\n",
        "                 callbacks=[callbacks])\n",
        "\n",
        "print(\"\\nHighest training accuracy: %.4f | epoch: %i\"%(highest_acc_train[0], \n",
        "                                                       highest_acc_train[1]))\n",
        "print(\"Highest validation accuracy: %.4f | epoch: %i\"%(highest_acc_test[0],\n",
        "                                                       highest_acc_test[1]))"
      ],
      "metadata": {
        "colab": {
          "base_uri": "https://localhost:8080/"
        },
        "id": "IRKlbb3NXCP5",
        "outputId": "2ae62204-8bd9-4614-8a56-6cb2e25e2e07"
      },
      "execution_count": null,
      "outputs": [
        {
          "output_type": "stream",
          "name": "stdout",
          "text": [
            "Model: \"sequential_72\"\n",
            "_________________________________________________________________\n",
            " Layer (type)                Output Shape              Param #   \n",
            "=================================================================\n",
            " embedding_73 (Embedding)    (None, None, 32)          480000    \n",
            "                                                                 \n",
            " lstm_74 (LSTM)              (None, 16)                3136      \n",
            "                                                                 \n",
            " dense_156 (Dense)           (None, 16)                272       \n",
            "                                                                 \n",
            " dropout_76 (Dropout)        (None, 16)                0         \n",
            "                                                                 \n",
            " dense_157 (Dense)           (None, 3)                 51        \n",
            "                                                                 \n",
            "=================================================================\n",
            "Total params: 483,459\n",
            "Trainable params: 483,459\n",
            "Non-trainable params: 0\n",
            "_________________________________________________________________\n",
            "Epoch 1/45\n",
            "141/141 - 3s - loss: 1.0238 - acc: 0.4404 - val_loss: 0.9201 - val_acc: 0.5640 - 3s/epoch - 21ms/step\n",
            "Epoch 2/45\n",
            "141/141 - 1s - loss: 0.8381 - acc: 0.6109 - val_loss: 0.7525 - val_acc: 0.6581 - 892ms/epoch - 6ms/step\n",
            "Epoch 3/45\n",
            "141/141 - 1s - loss: 0.7386 - acc: 0.6789 - val_loss: 0.7291 - val_acc: 0.6800 - 858ms/epoch - 6ms/step\n",
            "Epoch 4/45\n",
            "141/141 - 1s - loss: 0.6746 - acc: 0.7090 - val_loss: 0.7395 - val_acc: 0.6733 - 869ms/epoch - 6ms/step\n",
            "Epoch 5/45\n",
            "141/141 - 1s - loss: 0.6283 - acc: 0.7276 - val_loss: 0.7022 - val_acc: 0.6991 - 895ms/epoch - 6ms/step\n",
            "Epoch 6/45\n",
            "141/141 - 1s - loss: 0.5785 - acc: 0.7440 - val_loss: 0.7019 - val_acc: 0.6822 - 958ms/epoch - 7ms/step\n",
            "Epoch 7/45\n",
            "141/141 - 1s - loss: 0.5295 - acc: 0.7608 - val_loss: 0.6571 - val_acc: 0.7185 - 879ms/epoch - 6ms/step\n",
            "Epoch 8/45\n",
            "141/141 - 1s - loss: 0.4928 - acc: 0.8056 - val_loss: 0.6367 - val_acc: 0.7879 - 853ms/epoch - 6ms/step\n",
            "Epoch 9/45\n",
            "141/141 - 1s - loss: 0.4613 - acc: 0.8318 - val_loss: 0.6217 - val_acc: 0.7968 - 895ms/epoch - 6ms/step\n",
            "Epoch 10/45\n",
            "141/141 - 1s - loss: 0.4189 - acc: 0.8561 - val_loss: 0.6070 - val_acc: 0.8114 - 859ms/epoch - 6ms/step\n",
            "Epoch 11/45\n",
            "141/141 - 1s - loss: 0.3907 - acc: 0.8683 - val_loss: 0.6657 - val_acc: 0.8115 - 904ms/epoch - 6ms/step\n",
            "Epoch 12/45\n",
            "141/141 - 1s - loss: 0.3728 - acc: 0.8771 - val_loss: 0.6427 - val_acc: 0.8123 - 898ms/epoch - 6ms/step\n",
            "Epoch 13/45\n",
            "141/141 - 1s - loss: 0.3557 - acc: 0.8843 - val_loss: 0.6218 - val_acc: 0.8196 - 932ms/epoch - 7ms/step\n",
            "Epoch 14/45\n",
            "141/141 - 1s - loss: 0.3336 - acc: 0.8914 - val_loss: 0.6714 - val_acc: 0.8224 - 861ms/epoch - 6ms/step\n",
            "Epoch 15/45\n",
            "141/141 - 1s - loss: 0.3202 - acc: 0.8944 - val_loss: 0.6318 - val_acc: 0.8198 - 888ms/epoch - 6ms/step\n",
            "Epoch 16/45\n",
            "141/141 - 1s - loss: 0.3158 - acc: 0.8979 - val_loss: 0.6541 - val_acc: 0.8166 - 938ms/epoch - 7ms/step\n",
            "Epoch 17/45\n",
            "141/141 - 1s - loss: 0.3106 - acc: 0.9006 - val_loss: 0.6807 - val_acc: 0.8226 - 906ms/epoch - 6ms/step\n",
            "Epoch 18/45\n",
            "141/141 - 1s - loss: 0.2923 - acc: 0.9062 - val_loss: 0.7317 - val_acc: 0.8246 - 911ms/epoch - 6ms/step\n",
            "Epoch 19/45\n",
            "141/141 - 1s - loss: 0.2878 - acc: 0.9088 - val_loss: 0.6694 - val_acc: 0.8109 - 901ms/epoch - 6ms/step\n",
            "Epoch 20/45\n",
            "141/141 - 1s - loss: 0.2816 - acc: 0.9107 - val_loss: 0.6682 - val_acc: 0.8234 - 898ms/epoch - 6ms/step\n",
            "Epoch 21/45\n",
            "141/141 - 1s - loss: 0.2736 - acc: 0.9122 - val_loss: 0.8102 - val_acc: 0.8228 - 919ms/epoch - 7ms/step\n",
            "Epoch 22/45\n",
            "141/141 - 1s - loss: 0.2653 - acc: 0.9159 - val_loss: 0.7138 - val_acc: 0.8228 - 909ms/epoch - 6ms/step\n",
            "Epoch 23/45\n",
            "141/141 - 1s - loss: 0.2612 - acc: 0.9169 - val_loss: 0.7676 - val_acc: 0.8240 - 865ms/epoch - 6ms/step\n",
            "Epoch 24/45\n",
            "141/141 - 1s - loss: 0.2528 - acc: 0.9199 - val_loss: 0.7637 - val_acc: 0.8158 - 908ms/epoch - 6ms/step\n",
            "Epoch 25/45\n",
            "141/141 - 1s - loss: 0.2515 - acc: 0.9189 - val_loss: 0.7921 - val_acc: 0.8209 - 896ms/epoch - 6ms/step\n",
            "Epoch 26/45\n",
            "141/141 - 1s - loss: 0.2432 - acc: 0.9241 - val_loss: 0.7416 - val_acc: 0.8217 - 866ms/epoch - 6ms/step\n",
            "Epoch 27/45\n",
            "141/141 - 1s - loss: 0.2413 - acc: 0.9238 - val_loss: 0.8630 - val_acc: 0.8227 - 906ms/epoch - 6ms/step\n",
            "Epoch 28/45\n",
            "141/141 - 1s - loss: 0.2389 - acc: 0.9252 - val_loss: 0.7872 - val_acc: 0.8167 - 870ms/epoch - 6ms/step\n",
            "Epoch 29/45\n",
            "141/141 - 1s - loss: 0.2323 - acc: 0.9269 - val_loss: 0.7865 - val_acc: 0.8205 - 880ms/epoch - 6ms/step\n",
            "Epoch 30/45\n",
            "141/141 - 1s - loss: 0.2250 - acc: 0.9294 - val_loss: 0.7546 - val_acc: 0.8159 - 866ms/epoch - 6ms/step\n",
            "Epoch 31/45\n",
            "141/141 - 1s - loss: 0.2273 - acc: 0.9295 - val_loss: 0.8369 - val_acc: 0.8246 - 896ms/epoch - 6ms/step\n",
            "Epoch 32/45\n",
            "141/141 - 1s - loss: 0.2167 - acc: 0.9319 - val_loss: 0.7821 - val_acc: 0.8224 - 894ms/epoch - 6ms/step\n",
            "Epoch 33/45\n",
            "141/141 - 1s - loss: 0.2106 - acc: 0.9328 - val_loss: 0.8105 - val_acc: 0.8245 - 906ms/epoch - 6ms/step\n",
            "Epoch 34/45\n",
            "141/141 - 1s - loss: 0.2172 - acc: 0.9336 - val_loss: 0.7643 - val_acc: 0.8217 - 899ms/epoch - 6ms/step\n",
            "Epoch 35/45\n",
            "141/141 - 1s - loss: 0.2045 - acc: 0.9366 - val_loss: 0.9734 - val_acc: 0.8252 - 897ms/epoch - 6ms/step\n",
            "Epoch 36/45\n",
            "141/141 - 1s - loss: 0.2017 - acc: 0.9370 - val_loss: 0.9886 - val_acc: 0.8247 - 897ms/epoch - 6ms/step\n",
            "Epoch 37/45\n",
            "141/141 - 1s - loss: 0.2019 - acc: 0.9374 - val_loss: 0.8971 - val_acc: 0.8150 - 862ms/epoch - 6ms/step\n",
            "Epoch 38/45\n",
            "141/141 - 1s - loss: 0.1912 - acc: 0.9404 - val_loss: 0.9347 - val_acc: 0.8226 - 857ms/epoch - 6ms/step\n",
            "Epoch 39/45\n",
            "141/141 - 1s - loss: 0.1995 - acc: 0.9378 - val_loss: 0.9604 - val_acc: 0.8188 - 844ms/epoch - 6ms/step\n",
            "Epoch 40/45\n",
            "141/141 - 1s - loss: 0.1897 - acc: 0.9402 - val_loss: 0.9581 - val_acc: 0.8253 - 960ms/epoch - 7ms/step\n",
            "Epoch 41/45\n",
            "141/141 - 1s - loss: 0.1914 - acc: 0.9411 - val_loss: 1.0706 - val_acc: 0.8207 - 1s/epoch - 9ms/step\n",
            "Epoch 42/45\n",
            "141/141 - 1s - loss: 0.1861 - acc: 0.9422 - val_loss: 1.0264 - val_acc: 0.8239 - 1s/epoch - 7ms/step\n",
            "Epoch 43/45\n",
            "141/141 - 1s - loss: 0.1864 - acc: 0.9407 - val_loss: 0.9386 - val_acc: 0.8207 - 848ms/epoch - 6ms/step\n",
            "Epoch 44/45\n",
            "141/141 - 1s - loss: 0.1870 - acc: 0.9427 - val_loss: 0.9967 - val_acc: 0.8218 - 890ms/epoch - 6ms/step\n",
            "Epoch 45/45\n",
            "141/141 - 1s - loss: 0.1794 - acc: 0.9452 - val_loss: 0.9931 - val_acc: 0.8236 - 852ms/epoch - 6ms/step\n",
            "\n",
            "Highest training accuracy: 0.9452 | epoch: 45\n",
            "Highest validation accuracy: 0.8253 | epoch: 40\n"
          ]
        }
      ]
    },
    {
      "cell_type": "markdown",
      "source": [
        "# Plot the Result"
      ],
      "metadata": {
        "id": "oCBL1F7QAiFl"
      }
    },
    {
      "cell_type": "code",
      "source": [
        "fig, ax = plt.subplots(1, 2, figsize = (10,4))\n",
        "\n",
        "ax[0].plot(hist.history['acc'], label = 'train_acc')\n",
        "ax[0].plot(hist.history['val_acc'], label = 'val_acc')\n",
        "ax[0].set_title('Accuracy')\n",
        "ax[0].legend()\n",
        "ax[0].set_ylim(0, 1)\n",
        "\n",
        "ax[1].plot(hist.history['loss'], label = 'train_loss')\n",
        "ax[1].plot(hist.history['val_loss'], label = 'val_loss')\n",
        "ax[1].legend()\n",
        "ax[1].set_title('Loss')\n",
        "ax[1].set_ylim([0,max(hist.history['loss'] + hist.history['val_loss'])])\n",
        "\n",
        "fig.tight_layout()\n",
        "plt.show()"
      ],
      "metadata": {
        "colab": {
          "base_uri": "https://localhost:8080/",
          "height": 297
        },
        "id": "rkn5s0TJc_t8",
        "outputId": "687a91fd-6e91-4e0c-cc26-1731bdfc377f"
      },
      "execution_count": null,
      "outputs": [
        {
          "output_type": "display_data",
          "data": {
            "text/plain": [
              "<Figure size 720x288 with 2 Axes>"
            ],
            "image/png": "[encoded data removed]"
          },
          "metadata": {
            "needs_background": "light"
          }
        }
      ]
    }
  ]
}