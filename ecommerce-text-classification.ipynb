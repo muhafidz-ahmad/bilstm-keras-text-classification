{
 "cells": [
  {
   "cell_type": "markdown",
   "id": "0254435a",
   "metadata": {
    "id": "CqQT0r9ilWmO",
    "papermill": {
     "duration": 0.007589,
     "end_time": "2022-10-18T00:23:08.253062",
     "exception": false,
     "start_time": "2022-10-18T00:23:08.245473",
     "status": "completed"
    },
    "tags": []
   },
   "source": [
    "# Package Preparation"
   ]
  },
  {
   "cell_type": "code",
   "execution_count": 1,
   "id": "8eff55b8",
   "metadata": {
    "execution": {
     "iopub.execute_input": "2022-10-18T00:23:08.267506Z",
     "iopub.status.busy": "2022-10-18T00:23:08.266992Z",
     "iopub.status.idle": "2022-10-18T00:23:14.597441Z",
     "shell.execute_reply": "2022-10-18T00:23:14.596460Z"
    },
    "id": "3QT80KOtk8jG",
    "outputId": "181eccb8-4eee-4a61-d86a-9bc9a8311054",
    "papermill": {
     "duration": 6.340611,
     "end_time": "2022-10-18T00:23:14.600005",
     "exception": false,
     "start_time": "2022-10-18T00:23:08.259394",
     "status": "completed"
    },
    "tags": []
   },
   "outputs": [
    {
     "name": "stderr",
     "output_type": "stream",
     "text": [
      "[nltk_data] Downloading package stopwords to /usr/share/nltk_data...\n",
      "[nltk_data]   Package stopwords is already up-to-date!\n"
     ]
    }
   ],
   "source": [
    "import string\n",
    "import re\n",
    "\n",
    "import nltk\n",
    "from nltk.corpus import stopwords\n",
    "nltk.download('stopwords')\n",
    "\n",
    "import pandas as pd\n",
    "import numpy as np\n",
    "import matplotlib.pyplot as plt\n",
    "\n",
    "from sklearn.model_selection import train_test_split\n",
    "\n",
    "from tensorflow import keras\n",
    "from tensorflow.keras import models\n",
    "from tensorflow.keras import layers\n",
    "from tensorflow.keras import optimizers\n",
    "from tensorflow.keras import losses\n",
    "from tensorflow.keras import initializers\n",
    "from tensorflow.keras.preprocessing.text import Tokenizer\n",
    "from tensorflow.keras.preprocessing.sequence import pad_sequences"
   ]
  },
  {
   "cell_type": "markdown",
   "id": "bc4259fc",
   "metadata": {
    "id": "_9Qv2Aa_LKEd",
    "papermill": {
     "duration": 0.004106,
     "end_time": "2022-10-18T00:23:14.608781",
     "exception": false,
     "start_time": "2022-10-18T00:23:14.604675",
     "status": "completed"
    },
    "tags": []
   },
   "source": [
    "# Load Data"
   ]
  },
  {
   "cell_type": "markdown",
   "id": "067ed286",
   "metadata": {
    "id": "EN4l5HDWaQ9m",
    "papermill": {
     "duration": 0.004095,
     "end_time": "2022-10-18T00:23:14.617067",
     "exception": false,
     "start_time": "2022-10-18T00:23:14.612972",
     "status": "completed"
    },
    "tags": []
   },
   "source": [
    "Dataset obtained from https://www.kaggle.com/datasets/saurabhshahane/ecommerce-text-classification"
   ]
  },
  {
   "cell_type": "code",
   "execution_count": 2,
   "id": "45faeeec",
   "metadata": {
    "execution": {
     "iopub.execute_input": "2022-10-18T00:23:14.628329Z",
     "iopub.status.busy": "2022-10-18T00:23:14.626592Z",
     "iopub.status.idle": "2022-10-18T00:23:15.515643Z",
     "shell.execute_reply": "2022-10-18T00:23:15.514748Z"
    },
    "id": "iSjM9t4lE5iN",
    "outputId": "852267a7-5871-4c7b-e705-fd65925bc8eb",
    "papermill": {
     "duration": 0.896452,
     "end_time": "2022-10-18T00:23:15.517715",
     "exception": false,
     "start_time": "2022-10-18T00:23:14.621263",
     "status": "completed"
    },
    "tags": []
   },
   "outputs": [
    {
     "name": "stderr",
     "output_type": "stream",
     "text": [
      "/opt/conda/lib/python3.7/site-packages/IPython/core/interactiveshell.py:3552: FutureWarning: The error_bad_lines argument has been deprecated and will be removed in a future version.\n",
      "\n",
      "\n",
      "  exec(code_obj, self.user_global_ns, self.user_ns)\n"
     ]
    },
    {
     "data": {
      "text/html": [
       "<div>\n",
       "<style scoped>\n",
       "    .dataframe tbody tr th:only-of-type {\n",
       "        vertical-align: middle;\n",
       "    }\n",
       "\n",
       "    .dataframe tbody tr th {\n",
       "        vertical-align: top;\n",
       "    }\n",
       "\n",
       "    .dataframe thead th {\n",
       "        text-align: right;\n",
       "    }\n",
       "</style>\n",
       "<table border=\"1\" class=\"dataframe\">\n",
       "  <thead>\n",
       "    <tr style=\"text-align: right;\">\n",
       "      <th></th>\n",
       "      <th>label</th>\n",
       "      <th>text</th>\n",
       "    </tr>\n",
       "  </thead>\n",
       "  <tbody>\n",
       "    <tr>\n",
       "      <th>0</th>\n",
       "      <td>Household</td>\n",
       "      <td>Paper Plane Design Framed Wall Hanging Motivat...</td>\n",
       "    </tr>\n",
       "    <tr>\n",
       "      <th>1</th>\n",
       "      <td>Household</td>\n",
       "      <td>SAF 'Floral' Framed Painting (Wood, 30 inch x ...</td>\n",
       "    </tr>\n",
       "    <tr>\n",
       "      <th>2</th>\n",
       "      <td>Household</td>\n",
       "      <td>SAF 'UV Textured Modern Art Print Framed' Pain...</td>\n",
       "    </tr>\n",
       "    <tr>\n",
       "      <th>3</th>\n",
       "      <td>Household</td>\n",
       "      <td>SAF Flower Print Framed Painting (Synthetic, 1...</td>\n",
       "    </tr>\n",
       "    <tr>\n",
       "      <th>4</th>\n",
       "      <td>Household</td>\n",
       "      <td>Incredible Gifts India Wooden Happy Birthday U...</td>\n",
       "    </tr>\n",
       "  </tbody>\n",
       "</table>\n",
       "</div>"
      ],
      "text/plain": [
       "       label                                               text\n",
       "0  Household  Paper Plane Design Framed Wall Hanging Motivat...\n",
       "1  Household  SAF 'Floral' Framed Painting (Wood, 30 inch x ...\n",
       "2  Household  SAF 'UV Textured Modern Art Print Framed' Pain...\n",
       "3  Household  SAF Flower Print Framed Painting (Synthetic, 1...\n",
       "4  Household  Incredible Gifts India Wooden Happy Birthday U..."
      ]
     },
     "execution_count": 2,
     "metadata": {},
     "output_type": "execute_result"
    }
   ],
   "source": [
    "df = pd.read_csv('../input/ecommerce-text-classification/ecommerceDataset.csv',\n",
    "                 engine='python',\n",
    "                 error_bad_lines=False,\n",
    "                 names=['label', 'text'])\n",
    "df.head()"
   ]
  },
  {
   "cell_type": "code",
   "execution_count": 3,
   "id": "34fc3d8e",
   "metadata": {
    "execution": {
     "iopub.execute_input": "2022-10-18T00:23:15.528276Z",
     "iopub.status.busy": "2022-10-18T00:23:15.527994Z",
     "iopub.status.idle": "2022-10-18T00:23:15.558302Z",
     "shell.execute_reply": "2022-10-18T00:23:15.557256Z"
    },
    "id": "KPpWfM48JC_s",
    "outputId": "842a137d-074d-4940-8ecf-b0404420b72d",
    "papermill": {
     "duration": 0.038865,
     "end_time": "2022-10-18T00:23:15.561386",
     "exception": false,
     "start_time": "2022-10-18T00:23:15.522521",
     "status": "completed"
    },
    "tags": []
   },
   "outputs": [
    {
     "name": "stdout",
     "output_type": "stream",
     "text": [
      "<class 'pandas.core.frame.DataFrame'>\n",
      "Int64Index: 50424 entries, 0 to 50424\n",
      "Data columns (total 2 columns):\n",
      " #   Column  Non-Null Count  Dtype \n",
      "---  ------  --------------  ----- \n",
      " 0   label   50424 non-null  object\n",
      " 1   text    50424 non-null  object\n",
      "dtypes: object(2)\n",
      "memory usage: 1.2+ MB\n"
     ]
    }
   ],
   "source": [
    "df = df.dropna()\n",
    "df.info()"
   ]
  },
  {
   "cell_type": "code",
   "execution_count": 4,
   "id": "bd8a9568",
   "metadata": {
    "execution": {
     "iopub.execute_input": "2022-10-18T00:23:15.572675Z",
     "iopub.status.busy": "2022-10-18T00:23:15.572391Z",
     "iopub.status.idle": "2022-10-18T00:23:15.581730Z",
     "shell.execute_reply": "2022-10-18T00:23:15.580715Z"
    },
    "id": "Ra7_YomGyzN5",
    "outputId": "045d3c87-2357-4464-ac95-eedeb3e277eb",
    "papermill": {
     "duration": 0.017142,
     "end_time": "2022-10-18T00:23:15.583858",
     "exception": false,
     "start_time": "2022-10-18T00:23:15.566716",
     "status": "completed"
    },
    "tags": []
   },
   "outputs": [
    {
     "data": {
      "text/plain": [
       "array(['Household', 'Books', 'Clothing & Accessories', 'Electronics'],\n",
       "      dtype=object)"
      ]
     },
     "execution_count": 4,
     "metadata": {},
     "output_type": "execute_result"
    }
   ],
   "source": [
    "labels_list = df['label'].unique()\n",
    "labels_list"
   ]
  },
  {
   "cell_type": "code",
   "execution_count": 5,
   "id": "5f2daab0",
   "metadata": {
    "execution": {
     "iopub.execute_input": "2022-10-18T00:23:15.594459Z",
     "iopub.status.busy": "2022-10-18T00:23:15.594206Z",
     "iopub.status.idle": "2022-10-18T00:23:15.612584Z",
     "shell.execute_reply": "2022-10-18T00:23:15.611571Z"
    },
    "id": "CGIRW4-tI6Yz",
    "outputId": "f47b9ce7-1539-4340-a27b-3e33c6c70310",
    "papermill": {
     "duration": 0.025926,
     "end_time": "2022-10-18T00:23:15.614729",
     "exception": false,
     "start_time": "2022-10-18T00:23:15.588803",
     "status": "completed"
    },
    "tags": []
   },
   "outputs": [
    {
     "data": {
      "text/html": [
       "<div>\n",
       "<style scoped>\n",
       "    .dataframe tbody tr th:only-of-type {\n",
       "        vertical-align: middle;\n",
       "    }\n",
       "\n",
       "    .dataframe tbody tr th {\n",
       "        vertical-align: top;\n",
       "    }\n",
       "\n",
       "    .dataframe thead th {\n",
       "        text-align: right;\n",
       "    }\n",
       "</style>\n",
       "<table border=\"1\" class=\"dataframe\">\n",
       "  <thead>\n",
       "    <tr style=\"text-align: right;\">\n",
       "      <th></th>\n",
       "      <th>text</th>\n",
       "      <th>Books</th>\n",
       "      <th>Clothing &amp; Accessories</th>\n",
       "      <th>Electronics</th>\n",
       "      <th>Household</th>\n",
       "    </tr>\n",
       "  </thead>\n",
       "  <tbody>\n",
       "    <tr>\n",
       "      <th>0</th>\n",
       "      <td>Paper Plane Design Framed Wall Hanging Motivat...</td>\n",
       "      <td>0</td>\n",
       "      <td>0</td>\n",
       "      <td>0</td>\n",
       "      <td>1</td>\n",
       "    </tr>\n",
       "    <tr>\n",
       "      <th>1</th>\n",
       "      <td>SAF 'Floral' Framed Painting (Wood, 30 inch x ...</td>\n",
       "      <td>0</td>\n",
       "      <td>0</td>\n",
       "      <td>0</td>\n",
       "      <td>1</td>\n",
       "    </tr>\n",
       "    <tr>\n",
       "      <th>2</th>\n",
       "      <td>SAF 'UV Textured Modern Art Print Framed' Pain...</td>\n",
       "      <td>0</td>\n",
       "      <td>0</td>\n",
       "      <td>0</td>\n",
       "      <td>1</td>\n",
       "    </tr>\n",
       "    <tr>\n",
       "      <th>3</th>\n",
       "      <td>SAF Flower Print Framed Painting (Synthetic, 1...</td>\n",
       "      <td>0</td>\n",
       "      <td>0</td>\n",
       "      <td>0</td>\n",
       "      <td>1</td>\n",
       "    </tr>\n",
       "    <tr>\n",
       "      <th>4</th>\n",
       "      <td>Incredible Gifts India Wooden Happy Birthday U...</td>\n",
       "      <td>0</td>\n",
       "      <td>0</td>\n",
       "      <td>0</td>\n",
       "      <td>1</td>\n",
       "    </tr>\n",
       "  </tbody>\n",
       "</table>\n",
       "</div>"
      ],
      "text/plain": [
       "                                                text  Books  \\\n",
       "0  Paper Plane Design Framed Wall Hanging Motivat...      0   \n",
       "1  SAF 'Floral' Framed Painting (Wood, 30 inch x ...      0   \n",
       "2  SAF 'UV Textured Modern Art Print Framed' Pain...      0   \n",
       "3  SAF Flower Print Framed Painting (Synthetic, 1...      0   \n",
       "4  Incredible Gifts India Wooden Happy Birthday U...      0   \n",
       "\n",
       "   Clothing & Accessories  Electronics  Household  \n",
       "0                       0            0          1  \n",
       "1                       0            0          1  \n",
       "2                       0            0          1  \n",
       "3                       0            0          1  \n",
       "4                       0            0          1  "
      ]
     },
     "execution_count": 5,
     "metadata": {},
     "output_type": "execute_result"
    }
   ],
   "source": [
    "df_label = pd.get_dummies(df['label'])\n",
    "df = pd.concat([df['text'], df_label], axis=1)\n",
    "df.head()"
   ]
  },
  {
   "cell_type": "code",
   "execution_count": 6,
   "id": "55846b3c",
   "metadata": {
    "execution": {
     "iopub.execute_input": "2022-10-18T00:23:15.625345Z",
     "iopub.status.busy": "2022-10-18T00:23:15.625088Z",
     "iopub.status.idle": "2022-10-18T00:23:15.632767Z",
     "shell.execute_reply": "2022-10-18T00:23:15.631773Z"
    },
    "id": "BQ5dao9OJm0k",
    "outputId": "6c4def7e-f218-4839-e388-4252d0640902",
    "papermill": {
     "duration": 0.015426,
     "end_time": "2022-10-18T00:23:15.634894",
     "exception": false,
     "start_time": "2022-10-18T00:23:15.619468",
     "status": "completed"
    },
    "tags": []
   },
   "outputs": [
    {
     "data": {
      "text/plain": [
       "array(['Paper Plane Design Framed Wall Hanging Motivational Office Decor Art Prints (8.7 X 8.7 inch) - Set of 4 Painting made up in synthetic frame with uv textured print which gives multi effects and attracts towards it. This is an special series of paintings which makes your wall very beautiful and gives a royal touch. This painting is ready to hang, you would be proud to possess this unique painting that is a niche apart. We use only the most modern and efficient printing technology on our prints, with only the and inks and precision epson, roland and hp printers. This innovative hd printing technique results in durable and spectacular looking prints of the highest that last a lifetime. We print solely with top-notch 100% inks, to achieve brilliant and true colours. Due to their high level of uv resistance, our prints retain their beautiful colours for many years. Add colour and style to your living space with this digitally printed painting. Some are for pleasure and some for eternal bliss.so bring home this elegant print that is lushed with rich colors that makes it nothing but sheer elegance to be to your friends and family.it would be treasured forever by whoever your lucky recipient is. Liven up your place with these intriguing paintings that are high definition hd graphic digital prints for home, office or any room.',\n",
       "       \"SAF 'Floral' Framed Painting (Wood, 30 inch x 10 inch, Special Effect UV Print Textured, SAO297) Painting made up in synthetic frame with UV textured print which gives multi effects and attracts towards it. This is an special series of paintings which makes your wall very beautiful and gives a royal touch (A perfect gift for your special ones).\"],\n",
       "      dtype=object)"
      ]
     },
     "execution_count": 6,
     "metadata": {},
     "output_type": "execute_result"
    }
   ],
   "source": [
    "clear_text = df['text'].values\n",
    "labels = df[labels_list].values\n",
    "clear_text[:2]"
   ]
  },
  {
   "cell_type": "code",
   "execution_count": 7,
   "id": "604cbef2",
   "metadata": {
    "execution": {
     "iopub.execute_input": "2022-10-18T00:23:15.645617Z",
     "iopub.status.busy": "2022-10-18T00:23:15.645337Z",
     "iopub.status.idle": "2022-10-18T00:23:15.652211Z",
     "shell.execute_reply": "2022-10-18T00:23:15.651313Z"
    },
    "id": "RNhfK5WbOBvM",
    "outputId": "bffc28c8-2a98-42bc-b3a5-bd63d72d1f1f",
    "papermill": {
     "duration": 0.014674,
     "end_time": "2022-10-18T00:23:15.654390",
     "exception": false,
     "start_time": "2022-10-18T00:23:15.639716",
     "status": "completed"
    },
    "tags": []
   },
   "outputs": [
    {
     "data": {
      "text/plain": [
       "array([[1, 0, 0, 0],\n",
       "       [1, 0, 0, 0]], dtype=uint8)"
      ]
     },
     "execution_count": 7,
     "metadata": {},
     "output_type": "execute_result"
    }
   ],
   "source": [
    "labels[:2]"
   ]
  },
  {
   "cell_type": "markdown",
   "id": "c8e2075e",
   "metadata": {
    "id": "AwYVNBBjLMCM",
    "papermill": {
     "duration": 0.004753,
     "end_time": "2022-10-18T00:23:15.664141",
     "exception": false,
     "start_time": "2022-10-18T00:23:15.659388",
     "status": "completed"
    },
    "tags": []
   },
   "source": [
    "# Text Preprocessing"
   ]
  },
  {
   "cell_type": "code",
   "execution_count": 8,
   "id": "6e2cfda4",
   "metadata": {
    "execution": {
     "iopub.execute_input": "2022-10-18T00:23:15.674982Z",
     "iopub.status.busy": "2022-10-18T00:23:15.674734Z",
     "iopub.status.idle": "2022-10-18T00:23:31.995450Z",
     "shell.execute_reply": "2022-10-18T00:23:31.994502Z"
    },
    "id": "qHa5tSScLDP-",
    "outputId": "a24f1931-de8f-4cff-a126-d0928d958986",
    "papermill": {
     "duration": 16.328565,
     "end_time": "2022-10-18T00:23:31.997597",
     "exception": false,
     "start_time": "2022-10-18T00:23:15.669032",
     "status": "completed"
    },
    "tags": []
   },
   "outputs": [
    {
     "data": {
      "text/plain": [
       "array(['paper plane design framed wall hanging motivational office decor art prints 87 x 87 inch set 4 painting made synthetic frame uv textured print gives multi effects attracts towards special series paintings makes wall beautiful gives royal touch painting ready hang would proud possess unique painting niche apart use modern efficient printing technology prints inks precision epson roland hp printers innovative hd printing technique results durable spectacular looking prints highest last lifetime print solely topnotch 100 inks achieve brilliant true colours due high level uv resistance prints retain beautiful colours many years add colour style living space digitally printed painting pleasure eternal blissso bring home elegant print lushed rich colors makes nothing sheer elegance friends familyit would treasured forever whoever lucky recipient liven place intriguing paintings high definition hd graphic digital prints home office room',\n",
       "       'saf floral framed painting wood 30 inch x 10 inch special effect uv print textured sao297 painting made synthetic frame uv textured print gives multi effects attracts towards special series paintings makes wall beautiful gives royal touch perfect gift special ones'],\n",
       "      dtype=object)"
      ]
     },
     "execution_count": 8,
     "metadata": {},
     "output_type": "execute_result"
    }
   ],
   "source": [
    "stop_words = stopwords.words('english')\n",
    "\n",
    "for i, t in enumerate(clear_text):\n",
    "    lower_text = t.lower()\n",
    "    \n",
    "    #remove punctuation\n",
    "    del_punc = \"\".join([char for char in lower_text if char not in string.punctuation])\n",
    "\n",
    "    # remove stopword\n",
    "    del_stopword = \" \".join([word for word in del_punc.split() if word not in stop_words])\n",
    "\n",
    "    clear_text[i] = del_stopword\n",
    "\n",
    "clear_text[:2]"
   ]
  },
  {
   "cell_type": "markdown",
   "id": "b3789bc3",
   "metadata": {
    "id": "oHPL8I_oV0gH",
    "papermill": {
     "duration": 0.00509,
     "end_time": "2022-10-18T00:23:32.008940",
     "exception": false,
     "start_time": "2022-10-18T00:23:32.003850",
     "status": "completed"
    },
    "tags": []
   },
   "source": [
    "# Split Data Train and Data Test"
   ]
  },
  {
   "cell_type": "code",
   "execution_count": 9,
   "id": "1d6479de",
   "metadata": {
    "execution": {
     "iopub.execute_input": "2022-10-18T00:23:32.020365Z",
     "iopub.status.busy": "2022-10-18T00:23:32.020065Z",
     "iopub.status.idle": "2022-10-18T00:23:32.031141Z",
     "shell.execute_reply": "2022-10-18T00:23:32.030320Z"
    },
    "id": "5vVbBnlDV5zG",
    "papermill": {
     "duration": 0.019238,
     "end_time": "2022-10-18T00:23:32.033262",
     "exception": false,
     "start_time": "2022-10-18T00:23:32.014024",
     "status": "completed"
    },
    "tags": []
   },
   "outputs": [],
   "source": [
    "text_train, text_test, y_train, y_test = train_test_split(clear_text,\n",
    "                                                          labels,\n",
    "                                                          test_size=0.2,\n",
    "                                                          random_state=45)"
   ]
  },
  {
   "cell_type": "markdown",
   "id": "32a1c8ad",
   "metadata": {
    "id": "v2i75IbqUzLc",
    "papermill": {
     "duration": 0.004906,
     "end_time": "2022-10-18T00:23:32.043125",
     "exception": false,
     "start_time": "2022-10-18T00:23:32.038219",
     "status": "completed"
    },
    "tags": []
   },
   "source": [
    "# Tokenizer"
   ]
  },
  {
   "cell_type": "code",
   "execution_count": 10,
   "id": "78ab0ee0",
   "metadata": {
    "execution": {
     "iopub.execute_input": "2022-10-18T00:23:32.054330Z",
     "iopub.status.busy": "2022-10-18T00:23:32.054065Z",
     "iopub.status.idle": "2022-10-18T00:23:38.747658Z",
     "shell.execute_reply": "2022-10-18T00:23:38.746071Z"
    },
    "id": "HxtgdUSiTgb9",
    "outputId": "dc40d135-659b-4849-92d6-80714d05c066",
    "papermill": {
     "duration": 6.701637,
     "end_time": "2022-10-18T00:23:38.749743",
     "exception": false,
     "start_time": "2022-10-18T00:23:32.048106",
     "status": "completed"
    },
    "tags": []
   },
   "outputs": [
    {
     "name": "stdout",
     "output_type": "stream",
     "text": [
      "113694\n",
      "14999\n",
      "1000\n"
     ]
    }
   ],
   "source": [
    "NUM_WORDS = 15000\n",
    "\n",
    "tokenizer = Tokenizer(num_words=NUM_WORDS, oov_token='<oov>')\n",
    "\n",
    "tokenizer.fit_on_texts(text_train)\n",
    "\n",
    "seq_train = tokenizer.texts_to_sequences(text_train)\n",
    "seq_test = tokenizer.texts_to_sequences(text_test)\n",
    "\n",
    "x_train = pad_sequences(seq_train, padding='post',\n",
    "                        maxlen=1000, truncating='post')\n",
    "x_test = pad_sequences(seq_test, padding='post', \n",
    "                       maxlen=1000, truncating='post')\n",
    "\n",
    "print(len(tokenizer.word_index))\n",
    "print(x_train.max())\n",
    "print(len(x_test[0]))"
   ]
  },
  {
   "cell_type": "code",
   "execution_count": 11,
   "id": "114dae17",
   "metadata": {
    "execution": {
     "iopub.execute_input": "2022-10-18T00:23:38.761574Z",
     "iopub.status.busy": "2022-10-18T00:23:38.761271Z",
     "iopub.status.idle": "2022-10-18T00:23:39.073378Z",
     "shell.execute_reply": "2022-10-18T00:23:39.072271Z"
    },
    "id": "Q1egTSZTeueN",
    "outputId": "227d8c2a-09ef-4bbf-af72-9f1b15fe4667",
    "papermill": {
     "duration": 0.32174,
     "end_time": "2022-10-18T00:23:39.076830",
     "exception": false,
     "start_time": "2022-10-18T00:23:38.755090",
     "status": "completed"
    },
    "tags": []
   },
   "outputs": [
    {
     "name": "stdout",
     "output_type": "stream",
     "text": [
      "{'Household': 15393, 'Books': 9515, 'Clothing & Accessories': 6978, 'Electronics': 8453}\n",
      "{'Household': 3920, 'Books': 2305, 'Clothing & Accessories': 1692, 'Electronics': 2168}\n"
     ]
    },
    {
     "data": {
      "image/png": "[encoded data removed]",
      "text/plain": [
       "<Figure size 720x288 with 2 Axes>"
      ]
     },
     "metadata": {},
     "output_type": "display_data"
    }
   ],
   "source": [
    "labels_counts_train = {}\n",
    "labels_counts_test = {}\n",
    "\n",
    "for i in range(len(labels_list)):\n",
    "    value_train = pd.DataFrame(y_train)[i].value_counts().iloc[1]\n",
    "    key_train = labels_list[i]\n",
    "    labels_counts_train[key_train] = value_train\n",
    "\n",
    "    value_test = pd.DataFrame(y_test)[i].value_counts().iloc[1]\n",
    "    key_test = labels_list[i]\n",
    "    labels_counts_test[key_test] = value_test\n",
    "\n",
    "fig, ax = plt.subplots(1, 2, figsize = (10,4))\n",
    "\n",
    "ax[0].pie(labels_counts_train.values(),\n",
    "          labels=labels_counts_train.keys())\n",
    "ax[0].set_title('Data train')\n",
    "\n",
    "ax[1].pie(labels_counts_test.values(),\n",
    "          labels=labels_counts_test.keys())\n",
    "ax[1].set_title('Data test')\n",
    "\n",
    "fig.tight_layout()\n",
    "plt.show\n",
    "\n",
    "print(labels_counts_train)\n",
    "print(labels_counts_test)"
   ]
  },
  {
   "cell_type": "markdown",
   "id": "eaa04c47",
   "metadata": {
    "id": "XMO1Ydg1W_7q",
    "papermill": {
     "duration": 0.013904,
     "end_time": "2022-10-18T00:23:39.106201",
     "exception": false,
     "start_time": "2022-10-18T00:23:39.092297",
     "status": "completed"
    },
    "tags": []
   },
   "source": [
    "# Build The Model"
   ]
  },
  {
   "cell_type": "code",
   "execution_count": 12,
   "id": "b902cc72",
   "metadata": {
    "execution": {
     "iopub.execute_input": "2022-10-18T00:23:39.128526Z",
     "iopub.status.busy": "2022-10-18T00:23:39.128161Z",
     "iopub.status.idle": "2022-10-18T00:24:27.902129Z",
     "shell.execute_reply": "2022-10-18T00:24:27.901202Z"
    },
    "id": "IRKlbb3NXCP5",
    "outputId": "9618e064-f0a5-45b1-b955-7b6d14fab310",
    "papermill": {
     "duration": 48.78395,
     "end_time": "2022-10-18T00:24:27.904206",
     "exception": false,
     "start_time": "2022-10-18T00:23:39.120256",
     "status": "completed"
    },
    "tags": []
   },
   "outputs": [
    {
     "name": "stderr",
     "output_type": "stream",
     "text": [
      "2022-10-18 00:23:39.234026: I tensorflow/stream_executor/cuda/cuda_gpu_executor.cc:937] successful NUMA node read from SysFS had negative value (-1), but there must be at least one NUMA node, so returning NUMA node zero\n",
      "2022-10-18 00:23:39.344373: I tensorflow/stream_executor/cuda/cuda_gpu_executor.cc:937] successful NUMA node read from SysFS had negative value (-1), but there must be at least one NUMA node, so returning NUMA node zero\n",
      "2022-10-18 00:23:39.345676: I tensorflow/stream_executor/cuda/cuda_gpu_executor.cc:937] successful NUMA node read from SysFS had negative value (-1), but there must be at least one NUMA node, so returning NUMA node zero\n",
      "2022-10-18 00:23:39.347676: I tensorflow/core/platform/cpu_feature_guard.cc:142] This TensorFlow binary is optimized with oneAPI Deep Neural Network Library (oneDNN) to use the following CPU instructions in performance-critical operations:  AVX2 AVX512F FMA\n",
      "To enable them in other operations, rebuild TensorFlow with the appropriate compiler flags.\n",
      "2022-10-18 00:23:39.348029: I tensorflow/stream_executor/cuda/cuda_gpu_executor.cc:937] successful NUMA node read from SysFS had negative value (-1), but there must be at least one NUMA node, so returning NUMA node zero\n",
      "2022-10-18 00:23:39.349008: I tensorflow/stream_executor/cuda/cuda_gpu_executor.cc:937] successful NUMA node read from SysFS had negative value (-1), but there must be at least one NUMA node, so returning NUMA node zero\n",
      "2022-10-18 00:23:39.349970: I tensorflow/stream_executor/cuda/cuda_gpu_executor.cc:937] successful NUMA node read from SysFS had negative value (-1), but there must be at least one NUMA node, so returning NUMA node zero\n",
      "2022-10-18 00:23:41.556676: I tensorflow/stream_executor/cuda/cuda_gpu_executor.cc:937] successful NUMA node read from SysFS had negative value (-1), but there must be at least one NUMA node, so returning NUMA node zero\n",
      "2022-10-18 00:23:41.557518: I tensorflow/stream_executor/cuda/cuda_gpu_executor.cc:937] successful NUMA node read from SysFS had negative value (-1), but there must be at least one NUMA node, so returning NUMA node zero\n",
      "2022-10-18 00:23:41.558358: I tensorflow/stream_executor/cuda/cuda_gpu_executor.cc:937] successful NUMA node read from SysFS had negative value (-1), but there must be at least one NUMA node, so returning NUMA node zero\n",
      "2022-10-18 00:23:41.558965: I tensorflow/core/common_runtime/gpu/gpu_device.cc:1510] Created device /job:localhost/replica:0/task:0/device:GPU:0 with 15401 MB memory:  -> device: 0, name: Tesla P100-PCIE-16GB, pci bus id: 0000:00:04.0, compute capability: 6.0\n"
     ]
    },
    {
     "name": "stdout",
     "output_type": "stream",
     "text": [
      "Model: \"sequential\"\n",
      "_________________________________________________________________\n",
      "Layer (type)                 Output Shape              Param #   \n",
      "=================================================================\n",
      "embedding (Embedding)        (None, None, 32)          480000    \n",
      "_________________________________________________________________\n",
      "bidirectional (Bidirectional (None, 32)                6272      \n",
      "_________________________________________________________________\n",
      "dense (Dense)                (None, 32)                1056      \n",
      "_________________________________________________________________\n",
      "dropout (Dropout)            (None, 32)                0         \n",
      "_________________________________________________________________\n",
      "dense_1 (Dense)              (None, 4)                 132       \n",
      "=================================================================\n",
      "Total params: 487,460\n",
      "Trainable params: 487,460\n",
      "Non-trainable params: 0\n",
      "_________________________________________________________________\n"
     ]
    },
    {
     "name": "stderr",
     "output_type": "stream",
     "text": [
      "2022-10-18 00:23:42.559689: I tensorflow/compiler/mlir/mlir_graph_optimization_pass.cc:185] None of the MLIR Optimization Passes are enabled (registered 2)\n"
     ]
    },
    {
     "name": "stdout",
     "output_type": "stream",
     "text": [
      "Epoch 1/5\n"
     ]
    },
    {
     "name": "stderr",
     "output_type": "stream",
     "text": [
      "2022-10-18 00:23:46.046641: I tensorflow/stream_executor/cuda/cuda_dnn.cc:369] Loaded cuDNN version 8005\n"
     ]
    },
    {
     "name": "stdout",
     "output_type": "stream",
     "text": [
      "79/79 - 15s - loss: 1.1563 - acc: 0.4739 - val_loss: 0.7111 - val_acc: 0.7035\n",
      "Epoch 2/5\n",
      "79/79 - 10s - loss: 0.4715 - acc: 0.8662 - val_loss: 0.2068 - val_acc: 0.9520\n",
      "Epoch 3/5\n",
      "79/79 - 10s - loss: 0.2398 - acc: 0.9467 - val_loss: 0.1602 - val_acc: 0.9625\n",
      "Epoch 4/5\n",
      "79/79 - 10s - loss: 0.1716 - acc: 0.9623 - val_loss: 0.1329 - val_acc: 0.9688\n",
      "\n",
      "The accuracy has reached > 0.95\n",
      "\n",
      "Highest training accuracy: 0.9623 | epoch: 4\n",
      "Highest validation accuracy: 0.9688 | epoch: 4\n"
     ]
    }
   ],
   "source": [
    "highest_acc_train = [0,0]\n",
    "highest_acc_test = [0,0]\n",
    "\n",
    "class myCallback(keras.callbacks.Callback):\n",
    "    \n",
    "    def on_epoch_end(self, epoch, logs={}):\n",
    "        global highest_acc_train, highest_acc_test\n",
    "\n",
    "        target_acc = 0.95\n",
    "\n",
    "        if logs.get('acc') > target_acc and logs.get('val_acc') > target_acc:\n",
    "            print(\"\\nThe accuracy has reached >\", target_acc)\n",
    "            self.model.stop_training = True\n",
    "        if logs.get('acc') > highest_acc_train[0]:\n",
    "            highest_acc_train[0] = logs.get('acc')\n",
    "            highest_acc_train[1] = epoch+1\n",
    "        if logs.get('val_acc') > highest_acc_test[0]:\n",
    "            highest_acc_test[0] = logs.get('val_acc')\n",
    "            highest_acc_test[1] = epoch+1\n",
    "            \n",
    "early_stopping = keras.callbacks.EarlyStopping(patience=3, \n",
    "                                               monitor='val_acc',\n",
    "                                               min_delta=0.01,\n",
    "                                               verbose=1)\n",
    "\n",
    "callbacks = myCallback()\n",
    "\n",
    "\n",
    "model = models.Sequential([\n",
    "    layers.Embedding(input_dim=NUM_WORDS, output_dim=32),\n",
    "    layers.Bidirectional(layers.LSTM(16, dropout=0.5)),\n",
    "    layers.Dense(32, activation='relu'),\n",
    "    layers.Dropout(0.5),\n",
    "    layers.Dense(len(labels_list), activation='softmax')\n",
    "])\n",
    "\n",
    "model.summary()\n",
    "\n",
    "model.compile(loss=losses.CategoricalCrossentropy(),\n",
    "              optimizer=optimizers.Adam(learning_rate=0.001),\n",
    "              metrics=['acc'])\n",
    "\n",
    "hist = model.fit(x_train, y_train,\n",
    "                 epochs=5,\n",
    "                 batch_size=512,\n",
    "                 validation_data=(x_test, y_test),\n",
    "                 validation_steps=5,\n",
    "                 verbose=2,\n",
    "                 callbacks=[callbacks])\n",
    "\n",
    "print(\"\\nHighest training accuracy: %.4f | epoch: %i\"%(highest_acc_train[0], \n",
    "                                                       highest_acc_train[1]))\n",
    "print(\"Highest validation accuracy: %.4f | epoch: %i\"%(highest_acc_test[0],\n",
    "                                                       highest_acc_test[1]))"
   ]
  },
  {
   "cell_type": "markdown",
   "id": "5ec32939",
   "metadata": {
    "id": "oCBL1F7QAiFl",
    "papermill": {
     "duration": 0.006058,
     "end_time": "2022-10-18T00:24:27.916816",
     "exception": false,
     "start_time": "2022-10-18T00:24:27.910758",
     "status": "completed"
    },
    "tags": []
   },
   "source": [
    "# Plot the Result"
   ]
  },
  {
   "cell_type": "code",
   "execution_count": 13,
   "id": "5c5de645",
   "metadata": {
    "execution": {
     "iopub.execute_input": "2022-10-18T00:24:27.931735Z",
     "iopub.status.busy": "2022-10-18T00:24:27.930129Z",
     "iopub.status.idle": "2022-10-18T00:24:28.616511Z",
     "shell.execute_reply": "2022-10-18T00:24:28.615416Z"
    },
    "id": "rkn5s0TJc_t8",
    "outputId": "0c913c10-7d1c-4ae0-b6f7-77012eb39f4e",
    "papermill": {
     "duration": 0.696262,
     "end_time": "2022-10-18T00:24:28.619192",
     "exception": false,
     "start_time": "2022-10-18T00:24:27.922930",
     "status": "completed"
    },
    "tags": []
   },
   "outputs": [
    {
     "data": {
      "image/png": "[encoded data removed]",
      "text/plain": [
       "<Figure size 576x288 with 2 Axes>"
      ]
     },
     "metadata": {
      "needs_background": "light"
     },
     "output_type": "display_data"
    }
   ],
   "source": [
    "fig, ax = plt.subplots(1, 2, figsize = (8,4))\n",
    "\n",
    "ax[0].plot(hist.history['acc'], label = 'train_acc')\n",
    "ax[0].plot(hist.history['val_acc'], label = 'val_acc')\n",
    "ax[0].set_title('Accuracy')\n",
    "ax[0].legend()\n",
    "ax[0].set_ylim(0, 1)\n",
    "\n",
    "ax[1].plot(hist.history['loss'], label = 'train_loss')\n",
    "ax[1].plot(hist.history['val_loss'], label = 'val_loss')\n",
    "ax[1].legend()\n",
    "ax[1].set_title('Loss')\n",
    "ax[1].set_ylim([0,max(hist.history['loss'] + hist.history['val_loss'])])\n",
    "\n",
    "fig.tight_layout()\n",
    "plt.show()"
   ]
  }
 ],
 "metadata": {
  "kernelspec": {
   "display_name": "Python 3",
   "language": "python",
   "name": "python3"
  },
  "language_info": {
   "codemirror_mode": {
    "name": "ipython",
    "version": 3
   },
   "file_extension": ".py",
   "mimetype": "text/x-python",
   "name": "python",
   "nbconvert_exporter": "python",
   "pygments_lexer": "ipython3",
   "version": "3.7.12"
  },
  "papermill": {
   "default_parameters": {},
   "duration": 91.359055,
   "end_time": "2022-10-18T00:24:31.993647",
   "environment_variables": {},
   "exception": null,
   "input_path": "__notebook__.ipynb",
   "output_path": "__notebook__.ipynb",
   "parameters": {},
   "start_time": "2022-10-18T00:23:00.634592",
   "version": "2.3.4"
  }
 },
 "nbformat": 4,
 "nbformat_minor": 5
}
